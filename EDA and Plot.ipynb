{
 "cells": [
  {
   "cell_type": "code",
   "execution_count": null,
   "metadata": {},
   "outputs": [],
   "source": [
    "# Importing the required packages\n",
    "\n",
    "import pandas as pd\n",
    "import numpy as np\n",
    "import matplotlib.pyplot as plt\n",
    "%matplotlib inline\n",
    "import seaborn as sns\n",
    "import sklearn\n",
    "import plotly as px"
   ]
  },
  {
   "cell_type": "code",
   "execution_count": null,
   "metadata": {},
   "outputs": [],
   "source": [
    "train=pd.read_csv(\"train.csv\", nrows=1000000,parse_dates=['pickup_datetime'])\n",
    "test=pd.read_csv(\"test.csv\")"
   ]
  },
  {
   "cell_type": "code",
   "execution_count": null,
   "metadata": {},
   "outputs": [],
   "source": [
    "print(train.shape)\n",
    "print(test.shape)"
   ]
  },
  {
   "cell_type": "code",
   "execution_count": null,
   "metadata": {},
   "outputs": [],
   "source": [
    "train.head()"
   ]
  },
  {
   "cell_type": "code",
   "execution_count": null,
   "metadata": {},
   "outputs": [],
   "source": [
    "train.dtypes"
   ]
  },
  {
   "cell_type": "code",
   "execution_count": null,
   "metadata": {},
   "outputs": [],
   "source": [
    "train.describe()"
   ]
  },
  {
   "cell_type": "markdown",
   "metadata": {},
   "source": [
    "# Observations:\n",
    "### Minimum Fare Amount is Negative (Not Possible)\n",
    "### Maximum Number of Passengers is 208 (Not Possible)\n",
    "### Maximum Fare Amount in Dollars is 500 (Hard to be True)\n",
    "### Minimum and Maximum values of both Latitudes and Longitudes are unrealistic\n",
    "####     Latitude Range : 40.49° North to 40.91° North\n",
    "####    Longitude Range : -74.03° West to -73.77° West\n",
    "### Fare Range in New York : 3$ - 200$\n"
   ]
  },
  {
   "cell_type": "code",
   "execution_count": null,
   "metadata": {},
   "outputs": [],
   "source": [
    "# Dropping those entries whose fare amount exceeds the Fare Range\n",
    "\n",
    "train=train.drop(train[train['fare_amount']>200].index,axis=0)\n",
    "train=train.drop(train[train['fare_amount']<3.5].index,axis=0)"
   ]
  },
  {
   "cell_type": "code",
   "execution_count": null,
   "metadata": {},
   "outputs": [],
   "source": [
    "# Dropping those entries whose Latitude & Longitudes are unrealistic and fall out of New York's range of Latitudes and Longitudes\n",
    "\n",
    "train=train.drop(train[train['dropoff_longitude']>-73.77].index,axis=0)\n",
    "train=train.drop(train[train['dropoff_longitude']<-74.03].index,axis=0)\n",
    "train=train.drop(train[train['pickup_longitude']>-73.77].index,axis=0)\n",
    "train=train.drop(train[train['pickup_longitude']<-74.03].index,axis=0)\n",
    "\n",
    "train=train.drop(train[train['dropoff_latitude']>40.91].index,axis=0)\n",
    "train=train.drop(train[train['dropoff_latitude']<40.49].index,axis=0)\n",
    "train=train.drop(train[train['pickup_latitude']>40.91].index,axis=0)\n",
    "train=train.drop(train[train['pickup_latitude']<40.49].index,axis=0)"
   ]
  },
  {
   "cell_type": "code",
   "execution_count": null,
   "metadata": {},
   "outputs": [],
   "source": [
    "# Dropping entries with Passenger Count < 0 and > 6\n",
    "train=train.drop(train[train['passenger_count']<0].index,axis=0)\n",
    "train=train.drop(train[train['passenger_count']>6].index,axis=0)"
   ]
  },
  {
   "cell_type": "code",
   "execution_count": null,
   "metadata": {},
   "outputs": [],
   "source": [
    "# Dropping entries with NaNs in Location\n",
    "\n",
    "\n",
    "train=train.drop(train[train['dropoff_latitude']==np.NaN].index,axis=0)\n",
    "train=train.drop(train[train['dropoff_longitude']==np.NaN].index,axis=0)\n",
    "train=train.drop(train[train['pickup_longitude']==np.NaN].index,axis=0)\n",
    "train=train.drop(train[train['pickup_latitude']==np.NaN].index,axis=0)\n"
   ]
  },
  {
   "cell_type": "code",
   "execution_count": null,
   "metadata": {},
   "outputs": [],
   "source": [
    "train.describe()"
   ]
  },
  {
   "cell_type": "code",
   "execution_count": null,
   "metadata": {},
   "outputs": [],
   "source": [
    "train.shape"
   ]
  },
  {
   "cell_type": "code",
   "execution_count": null,
   "metadata": {},
   "outputs": [],
   "source": [
    "# Grouping the Pickup & Dropoff Coordinates\n",
    "\n",
    "train['pickup_coords']=train[['pickup_latitude','pickup_longitude']].apply(tuple,axis=1)\n",
    "train['dropoff_coords']=train[['dropoff_latitude','dropoff_longitude']].apply(tuple,axis=1)\n"
   ]
  },
  {
   "cell_type": "code",
   "execution_count": null,
   "metadata": {},
   "outputs": [],
   "source": [
    "train.head()"
   ]
  },
  {
   "cell_type": "code",
   "execution_count": null,
   "metadata": {},
   "outputs": [],
   "source": [
    "# Calculating the Distance using Haversine Formula in Kilometers\n",
    "\n",
    "import haversine as hs\n",
    "from haversine import Unit\n",
    "train['haversine distance']=train.apply(lambda x: hs.haversine(x.pickup_coords,x.dropoff_coords,unit=Unit.KILOMETERS),axis=1)"
   ]
  },
  {
   "cell_type": "code",
   "execution_count": null,
   "metadata": {},
   "outputs": [],
   "source": [
    "train.head()"
   ]
  },
  {
   "cell_type": "code",
   "execution_count": null,
   "metadata": {},
   "outputs": [],
   "source": [
    "train[\"year\"] = train.pickup_datetime.dt.year - 2000\n",
    "train[\"month\"] = train.pickup_datetime.dt.month\n",
    "train[\"week\"] = train.pickup_datetime.dt.isocalendar().week\n",
    "\n",
    "train['day of year'] = train['pickup_datetime'].dt.dayofyear\n",
    "train[\"day of month\"] = train.pickup_datetime.dt.day\n",
    "train[\"day of week\"] = train.pickup_datetime.dt.weekday\n",
    "\n",
    "train[\"hour\"] = train.pickup_datetime.dt.hour\n",
    "train['minute'] =train['pickup_datetime'].dt.minute\n",
    "train['second'] = train['pickup_datetime'].dt.second"
   ]
  },
  {
   "cell_type": "code",
   "execution_count": null,
   "metadata": {},
   "outputs": [],
   "source": [
    "train.head()"
   ]
  },
  {
   "cell_type": "code",
   "execution_count": null,
   "metadata": {},
   "outputs": [],
   "source": [
    "train['Fare per Kilometer']=train['fare_amount']/train['haversine distance']"
   ]
  },
  {
   "cell_type": "code",
   "execution_count": null,
   "metadata": {},
   "outputs": [],
   "source": [
    "train.head()"
   ]
  },
  {
   "cell_type": "code",
   "execution_count": null,
   "metadata": {},
   "outputs": [],
   "source": [
    "# Dropping those entries which have the same Pickup and Dropoff Coordinates\n",
    "\n",
    "train=train.drop(train[train['pickup_coords']==train['dropoff_coords']].index)"
   ]
  },
  {
   "cell_type": "code",
   "execution_count": null,
   "metadata": {},
   "outputs": [],
   "source": [
    "train.shape"
   ]
  },
  {
   "cell_type": "code",
   "execution_count": null,
   "metadata": {},
   "outputs": [],
   "source": [
    "train.plot(x='pickup_longitude', y='pickup_latitude',kind='scatter',alpha=0.7,s=0.01,c='green')\n",
    "plt.ylim(40.49,40.91)\n",
    "plt.xlim(-74.03,-73.77)\n",
    "plt.title(\"PICKUP PLOT\")\n",
    "plt.style.use('dark_background')"
   ]
  },
  {
   "cell_type": "code",
   "execution_count": null,
   "metadata": {},
   "outputs": [],
   "source": [
    "train.plot(x='dropoff_longitude', y='dropoff_latitude',kind='scatter',alpha=0.7,s=0.01,c='blue')\n",
    "plt.ylim(40.49,40.91)\n",
    "plt.xlim(-74.03,-73.77)\n",
    "plt.title(\"DROPOFF PLOT\")\n",
    "plt.style.use('dark_background')\n",
    "plt.show()"
   ]
  },
  {
   "cell_type": "markdown",
   "metadata": {},
   "source": [
    "# Center Coordinates of NYC: (40.730,-73.935)"
   ]
  },
  {
   "cell_type": "code",
   "execution_count": null,
   "metadata": {},
   "outputs": [],
   "source": [
    "import folium\n",
    "drop_map=folium.Map(location=[40.730,-73.935])\n",
    "long_trips=train[train['haversine distance']>=10]\n",
    "print(long_trips.shape)\n",
    "for index,row in long_trips.iterrows():\n",
    "    folium.CircleMarker([row['dropoff_latitude'],row['dropoff_longitude']],radius=3,color='blue',fill_opacity=0.9).add_to(drop_map)\n",
    "    folium.CircleMarker([row['pickup_latitude'],row['pickup_longitude']],radius=3,color='green',fill_opacity=0.9).add_to(drop_map)\n",
    "drop_map"
   ]
  },
  {
   "cell_type": "code",
   "execution_count": null,
   "metadata": {},
   "outputs": [],
   "source": [
    "import plotly.express as px\n",
    "mean_fare = train[\"fare_amount\"].mean()\n",
    "median_fare = train[\"fare_amount\"].median()\n",
    "\n",
    "fig = px.histogram(train, x=\"fare_amount\", nbins=0, histfunc=\"count\")\n",
    "\n",
    "fig.update_xaxes(range=[0, 100])\n",
    "fig.add_vline(x=0,line=dict(color='white'))\n",
    "fig.add_vline(x=mean_fare, line=dict(color='white',),annotation_text='Mean fare', annotation_position=\"top right\")\n",
    "fig.add_vline(x=median_fare, line=dict(color='green'),annotation_text='Median Fare', annotation_position=\"top left\")\n",
    "\n",
    "fig.update_layout(\n",
    "    paper_bgcolor=\"black\",\n",
    "    \n",
    "    title=\"FARE AMOUNT DISTRIBUTION\",\n",
    "    xaxis_title=\"Fare Amount\",\n",
    "    yaxis_title=\"Count\",\n",
    "    font_family=\"Arial\",  \n",
    "    font_size=15,\n",
    "    font_color='White',\n",
    "    plot_bgcolor=\"black\",\n",
    ")\n",
    "\n",
    "fig.show()"
   ]
  },
  {
   "cell_type": "code",
   "execution_count": null,
   "metadata": {},
   "outputs": [],
   "source": [
    "mean_fare = train[\"haversine distance\"].mean()\n",
    "median_fare = train[\"haversine distance\"].median()\n",
    "\n",
    "fig = px.histogram(train, x=\"haversine distance\", nbins=0, histfunc=\"count\")\n",
    "\n",
    "fig.update_xaxes(range=[0,30])\n",
    "fig.add_vline(x=0,line=dict(color='white'))\n",
    "fig.add_vline(x=mean_fare, line=dict(color='white',),annotation_text='Mean H Dist', annotation_position=\"top right\")\n",
    "fig.add_vline(x=median_fare, line=dict(color='green'),annotation_text='Median H Dist', annotation_position=\"top left\")\n",
    "\n",
    "fig.update_layout(\n",
    "    paper_bgcolor=\"black\",\n",
    "    width=2100,\n",
    "    height=1000,\n",
    "    title=\"HAVERSINE DISTANCE AMOUNT DISTRIBUTION\",\n",
    "    xaxis_title=\"Haversine Distance\",\n",
    "    yaxis_title=\"Count\",\n",
    "    font_family=\"Arial\",  \n",
    "    font_size=15,\n",
    "    font_color='White',\n",
    "    plot_bgcolor=\"black\",\n",
    ")\n",
    "\n",
    "fig.show()"
   ]
  },
  {
   "cell_type": "code",
   "execution_count": null,
   "metadata": {},
   "outputs": [],
   "source": [
    "fig = px.histogram(train, x=\"passenger_count\", nbins=7, histfunc=\"count\")\n",
    "fig.update_traces(marker_line_color='white', marker_line_width=2)\n",
    "\n",
    "fig.add_vline(x=-1,line=dict(color='white'))\n",
    "\n",
    "fig.update_layout(\n",
    "    paper_bgcolor=\"black\",\n",
    "    width=1400,\n",
    "    height=1000,\n",
    "    title=\"Passenger Count Frequency\",\n",
    "    xaxis_title=\"Passenger Count\",\n",
    "    yaxis_title=\"Frequency\",\n",
    "    font_family=\"Arial\",  \n",
    "    font_size=15,\n",
    "    font_color='White',\n",
    "    plot_bgcolor=\"black\",\n",
    ")\n",
    "fig.show()"
   ]
  },
  {
   "cell_type": "code",
   "execution_count": null,
   "metadata": {},
   "outputs": [],
   "source": [
    "fig = px.scatter(train,x='passenger_count',y='fare_amount')\n",
    "fig.update_traces(marker=dict(size=10))\n",
    "fig.update_layout(\n",
    "    paper_bgcolor=\"black\",\n",
    "    width=2100,\n",
    "    height=1000,\n",
    "    title=\"FARE WITH NUMBER OF PASSENGERS IN THE CAB\",\n",
    "    xaxis_title=\"Number of Passengers\",\n",
    "    yaxis_title=\"Fare\",\n",
    "    font_family=\"Arial\",  \n",
    "    font_size=15,\n",
    "    font_color='White',\n",
    "    plot_bgcolor=\"black\",\n",
    ")\n",
    "fig.show()"
   ]
  },
  {
   "cell_type": "code",
   "execution_count": null,
   "metadata": {},
   "outputs": [],
   "source": [
    "train=train.drop('key',axis=1)\n",
    "train.head()"
   ]
  },
  {
   "cell_type": "code",
   "execution_count": null,
   "metadata": {},
   "outputs": [],
   "source": [
    "train.dtypes"
   ]
  },
  {
   "cell_type": "code",
   "execution_count": null,
   "metadata": {},
   "outputs": [],
   "source": [
    "new_train=train.drop(['pickup_datetime','pickup_coords','dropoff_coords'],axis=1)"
   ]
  },
  {
   "cell_type": "code",
   "execution_count": null,
   "metadata": {},
   "outputs": [],
   "source": [
    "colormap = plt.cm.RdBu\n",
    "plt.figure(figsize=(25,20))\n",
    "heatmap = sns.heatmap(new_train.corr(),\n",
    "                       linewidths=0.1,\n",
    "                       vmax=1.0,\n",
    "                       vmin=0,\n",
    "                       square=True,\n",
    "                       cmap='Blues',\n",
    "                       linecolor='black',\n",
    "                       annot=True)\n",
    "\n",
    "heatmap.set_title('CORRELATION HEATMAP', fontdict={'fontsize': 30}, pad=12, color='white')\n",
    "plt.show()\n"
   ]
  },
  {
   "cell_type": "code",
   "execution_count": null,
   "metadata": {},
   "outputs": [],
   "source": [
    "\n",
    "fig = px.scatter(train,y='fare_amount',x='year')\n",
    "fig.update_traces(marker=dict(size=10))\n",
    "fig.update_layout(\n",
    "    paper_bgcolor=\"black\",\n",
    "    width=1400,\n",
    "    height=1000,\n",
    "    title=\"FARE OVER THE YEARS\",\n",
    "    xaxis_title=\"Year in 2000s\",\n",
    "    yaxis_title=\"Fare in $\",\n",
    "    font_family=\"Arial\",  \n",
    "    font_size=20,\n",
    "    font_color='White',\n",
    "    plot_bgcolor=\"black\",\n",
    ")\n",
    "fig.show()"
   ]
  },
  {
   "cell_type": "code",
   "execution_count": null,
   "metadata": {},
   "outputs": [],
   "source": [
    "fig = px.scatter(train,y='fare_amount',x='month')\n",
    "fig.update_traces(marker=dict(size=10))\n",
    "fig.update_layout(\n",
    "    paper_bgcolor=\"black\",\n",
    "    width=1400,\n",
    "    height=1000,\n",
    "    title=\"FARE OVER THE MONTHS\",\n",
    "    xaxis_title=\"Months of the Year\",\n",
    "    yaxis_title=\"Fare in $\",\n",
    "    font_family=\"Arial\",  \n",
    "    font_size=15,\n",
    "    font_color='White',\n",
    "    plot_bgcolor=\"black\",\n",
    ")\n",
    "fig.show()"
   ]
  },
  {
   "cell_type": "code",
   "execution_count": null,
   "metadata": {},
   "outputs": [],
   "source": [
    "fig = px.scatter(train,y='fare_amount',x='day of month')\n",
    "fig.update_traces(marker=dict(size=10))\n",
    "fig.update_layout(\n",
    "    paper_bgcolor=\"black\",\n",
    "    width=1400,\n",
    "    height=1000,\n",
    "    title=\"FARE OVER THE DAYS OF MONTH\",\n",
    "    xaxis_title=\"Day of the Month\",\n",
    "    yaxis_title=\"Fare in $\",\n",
    "    font_family=\"Arial\",  \n",
    "    font_size=15,\n",
    "    font_color='White',\n",
    "    plot_bgcolor=\"black\",\n",
    ")\n",
    "fig.show()"
   ]
  },
  {
   "cell_type": "code",
   "execution_count": null,
   "metadata": {},
   "outputs": [],
   "source": [
    "fig = px.histogram(train, x=\"hour\", nbins=24, histfunc=\"count\")\n",
    "\n",
    "fig.add_vline(x=-1,line=dict(color='white'))\n",
    "fig.update_traces(marker_line_color='white', marker_line_width=2)\n",
    "\n",
    "fig.update_layout(\n",
    "    paper_bgcolor=\"black\",\n",
    "    width=1400,\n",
    "    height=1000,\n",
    "    title=\"Number of Rides over the Hours of the Day\",\n",
    "    xaxis_title=\"Hour\",\n",
    "    yaxis_title=\"Frequency\",\n",
    "    font_family=\"Arial\",  \n",
    "    font_size=15,\n",
    "    font_color='White',\n",
    "    plot_bgcolor=\"black\",\n",
    ")\n",
    "fig.show()"
   ]
  },
  {
   "cell_type": "code",
   "execution_count": null,
   "metadata": {},
   "outputs": [],
   "source": [
    "fig = px.scatter(train,y='fare_amount',x='hour')\n",
    "fig.update_traces(marker=dict(size=10))\n",
    "fig.update_layout(\n",
    "    paper_bgcolor=\"black\",\n",
    "    width=1400,\n",
    "    height=1000,\n",
    "    title=\"FARE OVER THE HOURS OF THE DAY\",\n",
    "    xaxis_title=\"Hour of the Day\",\n",
    "    yaxis_title=\"Fare in $\",\n",
    "    font_family=\"Arial\",  \n",
    "    font_size=15,\n",
    "    font_color='White',\n",
    "    plot_bgcolor=\"black\",\n",
    ")\n",
    "fig.show()"
   ]
  },
  {
   "cell_type": "code",
   "execution_count": null,
   "metadata": {},
   "outputs": [],
   "source": [
    "def time_slicer(df, timeframes, value, color=\"purple\"):\n",
    "    f,ax = plt.subplots(len(timeframes), figsize = [12,12])\n",
    "    plt.style.use('dark_background')\n",
    "    for i,x in enumerate(timeframes):\n",
    "        df.loc[:,[x,value]].groupby([x]).mean().plot(ax=ax[i],color=color)\n",
    "        ax[i].set_ylabel(value.title(),color='white')\n",
    "        ax[i].set_title(\"{} Variation by {}\".format(value.title(), x.title()),color='white')\n",
    "        ax[i].set_xlabel(\"\")\n",
    "        ax[i].tick_params(colors='white')\n",
    "        ax[i].grid(color='white', linestyle='--', linewidth=0.5, which='both', alpha=0.7)\n",
    "    plt.tight_layout(pad=0)"
   ]
  },
  {
   "cell_type": "code",
   "execution_count": null,
   "metadata": {},
   "outputs": [],
   "source": [
    "train.dtypes"
   ]
  },
  {
   "cell_type": "code",
   "execution_count": null,
   "metadata": {},
   "outputs": [],
   "source": [
    "time_slicer(df=train, timeframes=['hour', 'day of week','day of month', 'week', 'month', 'year',], value = \"fare_amount\", color=\"blue\")"
   ]
  },
  {
   "cell_type": "code",
   "execution_count": null,
   "metadata": {},
   "outputs": [],
   "source": [
    "time_slicer(df=train, timeframes=['hour', 'day of week','day of month', 'week', 'month', 'year',], value = \"haversine distance\", color=\"red\")"
   ]
  },
  {
   "cell_type": "code",
   "execution_count": null,
   "metadata": {},
   "outputs": [],
   "source": [
    "time_slicer(df=train, timeframes=['hour', 'day of week','day of month', 'week', 'month', 'year',], value = \"Fare per Kilometer\", color=\"green\")"
   ]
  },
  {
   "cell_type": "code",
   "execution_count": null,
   "metadata": {},
   "outputs": [],
   "source": [
    "fig,subplt=plt.subplots(1,2,figsize=(18,9))\n",
    "subplt[0].scatter(train['haversine distance'], train['fare_amount'], alpha=0.2,color='blue')\n",
    "subplt[0].set_xlabel('H Distance in Kms')\n",
    "subplt[0].set_ylabel('Fare in $USD')\n",
    "subplt[0].set_title('ALL DATA')\n",
    "subplt[0].grid(color='white', linestyle='--', linewidth=0.5, which='both', alpha=0.7)\n",
    "\n",
    "idx= ( train['haversine distance'] < 30 ) & ( train['fare_amount'] < 90 )\n",
    "\n",
    "subplt[1].scatter(train[idx]['haversine distance'], train[idx]['fare_amount'], alpha=0.2,color='blue')\n",
    "subplt[1].set_xlabel('H Distance in Kms')\n",
    "subplt[1].set_ylabel('Fare in $USD')\n",
    "subplt[1].set_title('ZOOMED GRAPH')\n",
    "subplt[1].grid(color='white', linestyle='--', linewidth=0.5, which='both', alpha=0.7)\n"
   ]
  },
  {
   "cell_type": "code",
   "execution_count": null,
   "metadata": {},
   "outputs": [],
   "source": [
    "train.dtypes"
   ]
  },
  {
   "cell_type": "code",
   "execution_count": null,
   "metadata": {},
   "outputs": [],
   "source": [
    "fig, ax = plt.subplots(figsize=(18, 9))\n",
    "numeric_columns = [col for col in train.columns if train[col].dtype != 'object']\n",
    "passenger_fare = train[numeric_columns].groupby(['passenger_count']).mean()\n",
    "sns.barplot(x=passenger_fare.index, y=passenger_fare['fare_amount'], palette = \"Set3\")\n",
    "plt.xlabel('Number of Passengers')\n",
    "plt.ylabel('Average Fare Price')\n",
    "plt.title('AVERAGE FARE PRICE VERSUS NUMBER OF PASSENGERS')\n",
    "plt.grid(color='white', linestyle='--', linewidth=0.5, alpha=0.7)\n",
    "plt.show()"
   ]
  },
  {
   "cell_type": "code",
   "execution_count": null,
   "metadata": {},
   "outputs": [],
   "source": [
    "train.head()"
   ]
  }
 ],
 "metadata": {
  "kernelspec": {
   "display_name": "Python 3",
   "language": "python",
   "name": "python3"
  },
  "language_info": {
   "codemirror_mode": {
    "name": "ipython",
    "version": 3
   },
   "file_extension": ".py",
   "mimetype": "text/x-python",
   "name": "python",
   "nbconvert_exporter": "python",
   "pygments_lexer": "ipython3",
   "version": "3.11.9"
  }
 },
 "nbformat": 4,
 "nbformat_minor": 2
}
